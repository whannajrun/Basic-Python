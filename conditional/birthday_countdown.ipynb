{
 "cells": [
  {
   "attachments": {},
   "cell_type": "markdown",
   "metadata": {},
   "source": [
    "<b>[DISCLAIMER]</b> This is a customized case from spring club explorer held by generation girl\n",
    "\n",
    "Case: \n",
    "Create a program displaying number of days\n",
    "left before user's next birthday (countdown).\n",
    "\n",
    "Rules:\n",
    "- Full name input process must be done once\n",
    "- Calculate age from birthday year (no input)\n",
    "- Use if/else \n",
    "- Output: last_name, countdown, next_age\n",
    "\n",
    "\n",
    "Expected Display: <br>\n",
    "Hello, Ms. [last_name] <br>\n",
    "It's [countdown] days left before your [next_age] birthday"
   ]
  },
  {
   "cell_type": "code",
   "execution_count": 1,
   "metadata": {},
   "outputs": [
    {
     "name": "stdout",
     "output_type": "stream",
     "text": [
      "Hello Tom Holland \n",
      "This is your birthday details: \n",
      "Year: 1996 \n",
      "Month: 6 \n",
      "Day: 1\n"
     ]
    }
   ],
   "source": [
    "#Answer\n",
    "from datetime import datetime\n",
    "\n",
    "#Input Full Name\n",
    "full_name = input(\"Input your full name: \")\n",
    "\n",
    "#Input Birthday Details (Year, Month, and Day)\n",
    "birthday_year = int(input(\"Input your birthday year [YYYY]: \"))\n",
    "birthday_month = int(input(\"Input your birthday month [1-12]: \"))\n",
    "birthday_day = int(input(\"Input your birthday day [1-31]: \"))\n",
    "\n",
    "#Test input\n",
    "print(\"Hello\", full_name, \"\\nThis is your birthday details:\", \n",
    "\"\\nYear:\",birthday_year, \"\\nMonth:\", birthday_month,\"\\nDay:\",birthday_day)"
   ]
  },
  {
   "cell_type": "code",
   "execution_count": 2,
   "metadata": {},
   "outputs": [
    {
     "name": "stdout",
     "output_type": "stream",
     "text": [
      "Temp. Birthday Details:  2023-06-01 00:00:00\n",
      "Age: 27\n"
     ]
    }
   ],
   "source": [
    "#Use split() function to split the string with separator \" \" (space)\n",
    "name_split = full_name.split(\" \")\n",
    "last_name = name_split[-1]\n",
    "\n",
    "#Today's Date \n",
    "dt_now = datetime.now()\n",
    "\n",
    "#Make it into date format, take year from dt_now to calculate countdown\n",
    "dt = datetime(dt_now.year,birthday_month, birthday_day)\n",
    "\n",
    "#Calculating current age (simple version)\n",
    "age = dt_now.year-birthday_year\n",
    "\n",
    "#Checking dt and age\n",
    "print(\"Temp. Birthday Details: \", dt)\n",
    "print(\"Age:\", age)"
   ]
  },
  {
   "attachments": {},
   "cell_type": "markdown",
   "metadata": {},
   "source": [
    "Countdown Conditional:\n",
    "\n",
    "If the month & date of birth is smaller than today's month & date, example: January 1, February 12 according to March (the month i made this file) then the days will be count until next year & add +1 to the age\n"
   ]
  },
  {
   "cell_type": "code",
   "execution_count": 3,
   "metadata": {},
   "outputs": [],
   "source": [
    "if (dt.month, dt.day) <= (dt_now.month, dt_now.day):\n",
    "  next_age += 1\n",
    "  days_left = (datetime(dt_now.year+1, dt_now.month, dt_now.day) - dt).days+1\n",
    "else:\n",
    "  days_left = (dt-dt_now).days+1"
   ]
  },
  {
   "cell_type": "code",
   "execution_count": 5,
   "metadata": {},
   "outputs": [
    {
     "name": "stdout",
     "output_type": "stream",
     "text": [
      "Welcome, Ms. Holland \n",
      "It's 85 days left before your 27 birthday\n"
     ]
    }
   ],
   "source": [
    "#Check final output\n",
    "print(\"Welcome, Ms.\", last_name, \n",
    "     \"\\nIt's\", days_left, \"days left before your\",age,\"birthday\")"
   ]
  },
  {
   "attachments": {},
   "cell_type": "markdown",
   "metadata": {},
   "source": [
    "Congratulations, you passed!"
   ]
  }
 ],
 "metadata": {
  "kernelspec": {
   "display_name": "Python 3",
   "language": "python",
   "name": "python3"
  },
  "language_info": {
   "codemirror_mode": {
    "name": "ipython",
    "version": 3
   },
   "file_extension": ".py",
   "mimetype": "text/x-python",
   "name": "python",
   "nbconvert_exporter": "python",
   "pygments_lexer": "ipython3",
   "version": "3.9.13"
  },
  "orig_nbformat": 4
 },
 "nbformat": 4,
 "nbformat_minor": 2
}
